{
 "cells": [
  {
   "cell_type": "markdown",
   "id": "aa00479d",
   "metadata": {},
   "source": [
    "#### importando libs"
   ]
  },
  {
   "cell_type": "code",
   "execution_count": 1,
   "id": "541429b9",
   "metadata": {},
   "outputs": [],
   "source": [
    "import pickle\n",
    "import numpy as np"
   ]
  },
  {
   "cell_type": "markdown",
   "id": "bbd61668",
   "metadata": {},
   "source": [
    "#### lendo arquivo de treino"
   ]
  },
  {
   "cell_type": "code",
   "execution_count": 2,
   "id": "5b5095c0",
   "metadata": {},
   "outputs": [],
   "source": [
    "with open('train_qa.txt', 'rb') as f:\n",
    "    train_data = pickle.load(f)\n",
    "with open('test_qa.txt', 'rb') as f:\n",
    "    test_data = pickle.load(f)"
   ]
  },
  {
   "cell_type": "markdown",
   "id": "9b3e9ee1",
   "metadata": {},
   "source": [
    "#### avaliando dataset"
   ]
  },
  {
   "cell_type": "code",
   "execution_count": 3,
   "id": "54989fca",
   "metadata": {},
   "outputs": [
    {
     "data": {
      "text/plain": [
       "(['Mary',\n",
       "  'moved',\n",
       "  'to',\n",
       "  'the',\n",
       "  'bathroom',\n",
       "  '.',\n",
       "  'Sandra',\n",
       "  'journeyed',\n",
       "  'to',\n",
       "  'the',\n",
       "  'bedroom',\n",
       "  '.'],\n",
       " ['Is', 'Sandra', 'in', 'the', 'hallway', '?'],\n",
       " 'no')"
      ]
     },
     "execution_count": 3,
     "metadata": {},
     "output_type": "execute_result"
    }
   ],
   "source": [
    "train_data[0]"
   ]
  },
  {
   "cell_type": "markdown",
   "id": "a5ae01d8",
   "metadata": {},
   "source": [
    "#### historia"
   ]
  },
  {
   "cell_type": "code",
   "execution_count": 4,
   "id": "588ea94e",
   "metadata": {},
   "outputs": [
    {
     "data": {
      "text/plain": [
       "'Mary moved to the bathroom . Sandra journeyed to the bedroom .'"
      ]
     },
     "execution_count": 4,
     "metadata": {},
     "output_type": "execute_result"
    }
   ],
   "source": [
    "\" \".join(train_data[0][0])"
   ]
  },
  {
   "cell_type": "markdown",
   "id": "f7242507",
   "metadata": {},
   "source": [
    "#### question"
   ]
  },
  {
   "cell_type": "code",
   "execution_count": 5,
   "id": "601447e8",
   "metadata": {},
   "outputs": [
    {
     "data": {
      "text/plain": [
       "'Is Sandra in the hallway ?'"
      ]
     },
     "execution_count": 5,
     "metadata": {},
     "output_type": "execute_result"
    }
   ],
   "source": [
    "\" \".join(train_data[0][1])"
   ]
  },
  {
   "cell_type": "markdown",
   "id": "aa0bc03c",
   "metadata": {},
   "source": [
    "#### answer"
   ]
  },
  {
   "cell_type": "code",
   "execution_count": 6,
   "id": "5af8d636",
   "metadata": {},
   "outputs": [
    {
     "data": {
      "text/plain": [
       "'n o'"
      ]
     },
     "execution_count": 6,
     "metadata": {},
     "output_type": "execute_result"
    }
   ],
   "source": [
    "\" \".join(train_data[0][2])"
   ]
  },
  {
   "cell_type": "markdown",
   "id": "174cbf54",
   "metadata": {},
   "source": [
    "#### garantindo que os dados de teste não fiquem na base de treino"
   ]
  },
  {
   "cell_type": "code",
   "execution_count": 7,
   "id": "c6ef8ed3",
   "metadata": {},
   "outputs": [],
   "source": [
    "all_data = test_data +train_data"
   ]
  },
  {
   "cell_type": "code",
   "execution_count": 8,
   "id": "5815c2ab",
   "metadata": {},
   "outputs": [
    {
     "data": {
      "text/plain": [
       "11000"
      ]
     },
     "execution_count": 8,
     "metadata": {},
     "output_type": "execute_result"
    }
   ],
   "source": [
    "len(all_data)"
   ]
  },
  {
   "cell_type": "code",
   "execution_count": 9,
   "id": "b8fc3ea0",
   "metadata": {},
   "outputs": [],
   "source": [
    "lista_vocab = set()\n",
    "\n",
    "for story, question, answer in all_data:\n",
    "    lista_vocab = lista_vocab.union(set(story))\n",
    "    lista_vocab = lista_vocab.union(set(question))"
   ]
  },
  {
   "cell_type": "code",
   "execution_count": 10,
   "id": "9204071a",
   "metadata": {},
   "outputs": [],
   "source": [
    "vocab_len = len(lista_vocab)+1"
   ]
  },
  {
   "cell_type": "code",
   "execution_count": 11,
   "id": "fbf765c2",
   "metadata": {},
   "outputs": [],
   "source": [
    "lista_vocab.add('no')\n",
    "lista_vocab.add('yes')"
   ]
  },
  {
   "cell_type": "markdown",
   "id": "d30fd3b1",
   "metadata": {},
   "source": [
    "#### adicionando sim e não na lista de vocabulário"
   ]
  },
  {
   "cell_type": "markdown",
   "id": "a2422ec2",
   "metadata": {},
   "source": [
    "lista_vocab.add('no')\n",
    "lista_vocab.add('yes')"
   ]
  },
  {
   "cell_type": "code",
   "execution_count": 12,
   "id": "1bb4e544",
   "metadata": {},
   "outputs": [
    {
     "data": {
      "text/plain": [
       "36"
      ]
     },
     "execution_count": 12,
     "metadata": {},
     "output_type": "execute_result"
    }
   ],
   "source": [
    "vocab_len"
   ]
  },
  {
   "cell_type": "code",
   "execution_count": 13,
   "id": "1261d87d",
   "metadata": {},
   "outputs": [],
   "source": [
    "import numpy as np"
   ]
  },
  {
   "cell_type": "markdown",
   "id": "abbdda69",
   "metadata": {},
   "source": [
    "#### encontrando os maiores comprimentos de cada tipo de texto:  -historia, questão, resposta"
   ]
  },
  {
   "cell_type": "code",
   "execution_count": 14,
   "id": "e7cdca0b",
   "metadata": {},
   "outputs": [],
   "source": [
    "max_story_len = max([len(data[0]) for data in all_data])\n",
    "max_question_len = max([len(data[1]) for data in all_data])\n",
    "max_answer_len = max([len(data[2]) for data in all_data])"
   ]
  },
  {
   "cell_type": "markdown",
   "id": "694711d4",
   "metadata": {},
   "source": [
    "#### iniciando etapa de vetorização dos dados"
   ]
  },
  {
   "cell_type": "code",
   "execution_count": 15,
   "id": "d7853ef8",
   "metadata": {},
   "outputs": [],
   "source": [
    "from keras.preprocessing.sequence import pad_sequences\n",
    "from keras.preprocessing.text import Tokenizer"
   ]
  },
  {
   "cell_type": "code",
   "execution_count": 16,
   "id": "71e29628",
   "metadata": {},
   "outputs": [],
   "source": [
    "tokenizer = Tokenizer(filters=[])\n",
    "tokenizer.fit_on_texts(lista_vocab)"
   ]
  },
  {
   "cell_type": "code",
   "execution_count": 17,
   "id": "a74e2885",
   "metadata": {},
   "outputs": [
    {
     "data": {
      "text/plain": [
       "{'garden': 1,\n",
       " 'left': 2,\n",
       " 'yes': 3,\n",
       " 'took': 4,\n",
       " 'put': 5,\n",
       " 'got': 6,\n",
       " 'to': 7,\n",
       " 'football': 8,\n",
       " 'up': 9,\n",
       " 'picked': 10,\n",
       " 'down': 11,\n",
       " 'dropped': 12,\n",
       " 'milk': 13,\n",
       " 'travelled': 14,\n",
       " '.': 15,\n",
       " 'hallway': 16,\n",
       " '?': 17,\n",
       " 'there': 18,\n",
       " 'back': 19,\n",
       " 'no': 20,\n",
       " 'office': 21,\n",
       " 'bedroom': 22,\n",
       " 'grabbed': 23,\n",
       " 'daniel': 24,\n",
       " 'is': 25,\n",
       " 'went': 26,\n",
       " 'sandra': 27,\n",
       " 'the': 28,\n",
       " 'journeyed': 29,\n",
       " 'john': 30,\n",
       " 'bathroom': 31,\n",
       " 'discarded': 32,\n",
       " 'kitchen': 33,\n",
       " 'in': 34,\n",
       " 'moved': 35,\n",
       " 'mary': 36,\n",
       " 'apple': 37}"
      ]
     },
     "execution_count": 17,
     "metadata": {},
     "output_type": "execute_result"
    }
   ],
   "source": [
    "tokenizer.word_index"
   ]
  },
  {
   "cell_type": "markdown",
   "id": "fe32a5fc",
   "metadata": {},
   "source": [
    "#### realizando tokenização para as perguntas e respostas"
   ]
  },
  {
   "cell_type": "code",
   "execution_count": 18,
   "id": "f2a75dd2",
   "metadata": {},
   "outputs": [],
   "source": [
    "train_story_text = list()\n",
    "train_question_text = list()\n",
    "train_answers = list()\n",
    "\n",
    "for story, question, answer in train_data:\n",
    "    train_story_text.append(story)\n",
    "    train_question_text.append(question)\n",
    "    train_answers.append(answer)"
   ]
  },
  {
   "cell_type": "markdown",
   "id": "302861d2",
   "metadata": {},
   "source": [
    "#### tokenizando as listas"
   ]
  },
  {
   "cell_type": "code",
   "execution_count": 19,
   "id": "6c255bde",
   "metadata": {},
   "outputs": [],
   "source": [
    "train_story_seq = tokenizer.texts_to_sequences(train_story_text)"
   ]
  },
  {
   "cell_type": "markdown",
   "id": "4d40d992",
   "metadata": {},
   "source": [
    "#### função para criar os vetores de treino e teste"
   ]
  },
  {
   "cell_type": "code",
   "execution_count": 20,
   "id": "4312e013",
   "metadata": {},
   "outputs": [],
   "source": [
    "def vectorize_stories(data, word_index=tokenizer.word_index, max_story_len=max_story_len, max_question_len= max_question_len):\n",
    "    X=list() #historias\n",
    "    Xq =list() #questoes\n",
    "    Y = list() #respostas\n",
    "    \n",
    "    #capturando os indices das palavras e inserindo nas listas\n",
    "    for story, query, answer in data:\n",
    "        x = [word_index[word.lower()] for word in story]\n",
    "        xq = [word_index[word.lower()] for word in query]\n",
    "        \n",
    "        y = np.zeros(len(word_index)+1)\n",
    "\n",
    "        y[word_index[answer]] = 1\n",
    "        \n",
    "        X.append(x)\n",
    "        Xq.append(xq)\n",
    "        Y.append(y)\n",
    "    \n",
    "    return (pad_sequences(X,maxlen=max_story_len), pad_sequences(Xq, maxlen=max_question_len), np.array(Y))\n",
    "        "
   ]
  },
  {
   "cell_type": "markdown",
   "id": "c0ba1205",
   "metadata": {},
   "source": [
    "#### criando bases de treino e teste"
   ]
  },
  {
   "cell_type": "code",
   "execution_count": 21,
   "id": "7d12d54a",
   "metadata": {},
   "outputs": [],
   "source": [
    "inputs_train, queries_train, answers_train = vectorize_stories(train_data)\n",
    "inputs_test, queries_test, answers_test = vectorize_stories(test_data)"
   ]
  },
  {
   "cell_type": "markdown",
   "id": "da7a449e",
   "metadata": {},
   "source": [
    "#### realizando a criação do modelo"
   ]
  },
  {
   "cell_type": "code",
   "execution_count": 22,
   "id": "96883488",
   "metadata": {},
   "outputs": [],
   "source": [
    "from tensorflow.keras.models import Sequential,Model"
   ]
  },
  {
   "cell_type": "code",
   "execution_count": 23,
   "id": "f333c383",
   "metadata": {},
   "outputs": [],
   "source": [
    "from keras.layers.embeddings import Embedding"
   ]
  },
  {
   "cell_type": "code",
   "execution_count": 24,
   "id": "082e8808",
   "metadata": {},
   "outputs": [],
   "source": [
    "from keras.layers import Input, Activation, Dense, Permute, Dropout, add, dot, concatenate, LSTM"
   ]
  },
  {
   "cell_type": "markdown",
   "id": "f363e0e9",
   "metadata": {},
   "source": [
    "#### definindo parâmetros de entrada da rede"
   ]
  },
  {
   "cell_type": "code",
   "execution_count": 25,
   "id": "8fc1469e",
   "metadata": {},
   "outputs": [],
   "source": [
    "input_sequence = Input((max_story_len,))\n",
    "question = Input((max_question_len,))"
   ]
  },
  {
   "cell_type": "code",
   "execution_count": 26,
   "id": "9e8bbbc4",
   "metadata": {},
   "outputs": [],
   "source": [
    "vocab_size = len(lista_vocab)+1"
   ]
  },
  {
   "cell_type": "markdown",
   "id": "2d1460de",
   "metadata": {},
   "source": [
    "#### criando as entradas do encoder M"
   ]
  },
  {
   "cell_type": "code",
   "execution_count": 27,
   "id": "6ac8fdab",
   "metadata": {},
   "outputs": [],
   "source": [
    "input_encoder_m = Sequential()\n",
    "input_encoder_m.add(Embedding(input_dim=vocab_size,output_dim=64))\n",
    "input_encoder_m.add(Dropout(0.3))"
   ]
  },
  {
   "cell_type": "markdown",
   "id": "b7ce765a",
   "metadata": {},
   "source": [
    "#### criando as entradas do encoder C"
   ]
  },
  {
   "cell_type": "code",
   "execution_count": 28,
   "id": "b716fae7",
   "metadata": {},
   "outputs": [],
   "source": [
    "input_encoder_c = Sequential()\n",
    "input_encoder_c.add(Embedding(input_dim=vocab_size,output_dim=max_question_len))\n",
    "input_encoder_c.add(Dropout(0.3))\n"
   ]
  },
  {
   "cell_type": "markdown",
   "id": "8a583e13",
   "metadata": {},
   "source": [
    "#### criando o encoder de question"
   ]
  },
  {
   "cell_type": "code",
   "execution_count": 29,
   "id": "4dc41e8d",
   "metadata": {},
   "outputs": [],
   "source": [
    "question_encoder = Sequential()\n",
    "question_encoder.add(Embedding(input_dim=vocab_size,output_dim=64, input_length=max_question_len) )\n",
    "input_encoder_m.add(Dropout(0.3))"
   ]
  },
  {
   "cell_type": "markdown",
   "id": "5cd9d5d4",
   "metadata": {},
   "source": [
    "#### criando o codificador\n",
    "#### encoded é igual ao enconder(input)"
   ]
  },
  {
   "cell_type": "code",
   "execution_count": 30,
   "id": "7ca97b92",
   "metadata": {},
   "outputs": [],
   "source": [
    "input_encoded_m=input_encoder_m(input_sequence)\n",
    "input_encoded_c=input_encoder_c(input_sequence)\n",
    "question_encoded = question_encoder(question)"
   ]
  },
  {
   "cell_type": "markdown",
   "id": "f8e18983",
   "metadata": {},
   "source": [
    "#### usando o produto de um ponto para calcular a correspondência entre a primeira sequencia do vetor de entrada"
   ]
  },
  {
   "cell_type": "code",
   "execution_count": 31,
   "id": "718d927e",
   "metadata": {},
   "outputs": [],
   "source": [
    "match = dot([input_encoded_m, question_encoded], axes=(2,2))\n",
    "match=Activation('softmax')(match)"
   ]
  },
  {
   "cell_type": "markdown",
   "id": "e2134aa7",
   "metadata": {},
   "source": [
    "#### usando o produto de um ponto para calcular a correspondência entre a segunda sequencia do vetor de entrada"
   ]
  },
  {
   "cell_type": "code",
   "execution_count": 32,
   "id": "fca690ba",
   "metadata": {},
   "outputs": [],
   "source": [
    "response = add([match, input_encoded_c])\n",
    "response = Permute((2,1))(response)"
   ]
  },
  {
   "cell_type": "code",
   "execution_count": 33,
   "id": "3d31b6e3",
   "metadata": {},
   "outputs": [],
   "source": [
    "answer = concatenate([response, question_encoded])"
   ]
  },
  {
   "cell_type": "code",
   "execution_count": 34,
   "id": "b207e20d",
   "metadata": {},
   "outputs": [
    {
     "data": {
      "text/plain": [
       "<KerasTensor: shape=(None, 6, 220) dtype=float32 (created by layer 'concatenate')>"
      ]
     },
     "execution_count": 34,
     "metadata": {},
     "output_type": "execute_result"
    }
   ],
   "source": [
    "answer"
   ]
  },
  {
   "cell_type": "markdown",
   "id": "8413306b",
   "metadata": {},
   "source": [
    "#### reduzindo o vetor para uma rede neural"
   ]
  },
  {
   "cell_type": "code",
   "execution_count": 35,
   "id": "09415754",
   "metadata": {},
   "outputs": [],
   "source": [
    "answer = LSTM(32)(answer)"
   ]
  },
  {
   "cell_type": "markdown",
   "id": "897c6462",
   "metadata": {},
   "source": [
    "#### série de regularização com abandono"
   ]
  },
  {
   "cell_type": "code",
   "execution_count": 36,
   "id": "e686ff4c",
   "metadata": {},
   "outputs": [],
   "source": [
    "answer= Dropout(0.5)(answer)\n",
    "answer=Dense(vocab_size)(answer) #YES/NO"
   ]
  },
  {
   "cell_type": "markdown",
   "id": "13c4314e",
   "metadata": {},
   "source": [
    "#### gerando uma distribuição de probabilidade sobre o vocabulário"
   ]
  },
  {
   "cell_type": "code",
   "execution_count": 37,
   "id": "b07b800f",
   "metadata": {},
   "outputs": [],
   "source": [
    "answer=Activation('softmax')(answer)"
   ]
  },
  {
   "cell_type": "code",
   "execution_count": 38,
   "id": "a1ae23e1",
   "metadata": {},
   "outputs": [],
   "source": [
    "model = Model([input_sequence, question], answer)"
   ]
  },
  {
   "cell_type": "code",
   "execution_count": 39,
   "id": "83846f58",
   "metadata": {},
   "outputs": [],
   "source": [
    "model.compile(optimizer='rmsprop', loss='categorical_crossentropy', metrics=['accuracy'])"
   ]
  },
  {
   "cell_type": "markdown",
   "id": "7e014d6c",
   "metadata": {},
   "source": [
    "#### gerando um resumo do modelo gerado"
   ]
  },
  {
   "cell_type": "code",
   "execution_count": 40,
   "id": "92b46479",
   "metadata": {},
   "outputs": [
    {
     "name": "stdout",
     "output_type": "stream",
     "text": [
      "Model: \"model\"\n",
      "__________________________________________________________________________________________________\n",
      "Layer (type)                    Output Shape         Param #     Connected to                     \n",
      "==================================================================================================\n",
      "Total params: 38,730\n",
      "Trainable params: 38,730\n",
      "Non-trainable params: 0\n",
      "__________________________________________________________________________________________________\n"
     ]
    }
   ],
   "source": [
    "model.summary()"
   ]
  },
  {
   "cell_type": "markdown",
   "id": "e01f4fc5",
   "metadata": {},
   "source": [
    "#### fitando o modelo e avaliando processamento através das épocas"
   ]
  },
  {
   "cell_type": "code",
   "execution_count": 41,
   "id": "9a2abb27",
   "metadata": {},
   "outputs": [
    {
     "name": "stdout",
     "output_type": "stream",
     "text": [
      "Epoch 1/10\n",
      "313/313 [==============================] - 5s 9ms/step - loss: 0.7955 - accuracy: 0.4939 - val_loss: 0.6938 - val_accuracy: 0.4970\n",
      "Epoch 2/10\n",
      "313/313 [==============================] - 2s 7ms/step - loss: 0.6953 - accuracy: 0.4988 - val_loss: 0.6933 - val_accuracy: 0.5030\n",
      "Epoch 3/10\n",
      "313/313 [==============================] - 2s 7ms/step - loss: 0.6950 - accuracy: 0.4978 - val_loss: 0.6953 - val_accuracy: 0.4970\n",
      "Epoch 4/10\n",
      "313/313 [==============================] - 2s 7ms/step - loss: 0.6950 - accuracy: 0.5019 - val_loss: 0.6932 - val_accuracy: 0.4830\n",
      "Epoch 5/10\n",
      "313/313 [==============================] - 2s 7ms/step - loss: 0.6942 - accuracy: 0.5022 - val_loss: 0.6931 - val_accuracy: 0.4880\n",
      "Epoch 6/10\n",
      "313/313 [==============================] - 2s 7ms/step - loss: 0.6925 - accuracy: 0.5142 - val_loss: 0.6898 - val_accuracy: 0.5460\n",
      "Epoch 7/10\n",
      "313/313 [==============================] - ETA: 0s - loss: 0.6606 - accuracy: 0.61 - 2s 7ms/step - loss: 0.6601 - accuracy: 0.6196 - val_loss: 0.6175 - val_accuracy: 0.7120\n",
      "Epoch 8/10\n",
      "313/313 [==============================] - 2s 7ms/step - loss: 0.5148 - accuracy: 0.7772 - val_loss: 0.4558 - val_accuracy: 0.7970\n",
      "Epoch 9/10\n",
      "313/313 [==============================] - 2s 7ms/step - loss: 0.3978 - accuracy: 0.8329 - val_loss: 0.4454 - val_accuracy: 0.8310\n",
      "Epoch 10/10\n",
      "313/313 [==============================] - 2s 7ms/step - loss: 0.3561 - accuracy: 0.8522 - val_loss: 0.3883 - val_accuracy: 0.8360\n"
     ]
    }
   ],
   "source": [
    "history = model.fit([inputs_train, queries_train], answers_train, batch_size=32, epochs=10, validation_data=([inputs_test, queries_test], answers_test))"
   ]
  },
  {
   "cell_type": "markdown",
   "id": "d4293a23",
   "metadata": {},
   "source": [
    "#### função para avaliar a quantidade de época que o modelo performa bem "
   ]
  },
  {
   "cell_type": "code",
   "execution_count": 42,
   "id": "db3403fc",
   "metadata": {},
   "outputs": [
    {
     "data": {
      "text/plain": [
       "{'loss': [0.7955331802368164,\n",
       "  0.6952540278434753,\n",
       "  0.6949746608734131,\n",
       "  0.6949748992919922,\n",
       "  0.6942086815834045,\n",
       "  0.6925251483917236,\n",
       "  0.6601150631904602,\n",
       "  0.5148060321807861,\n",
       "  0.3977937400341034,\n",
       "  0.3561357259750366],\n",
       " 'accuracy': [0.49390000104904175,\n",
       "  0.49880000948905945,\n",
       "  0.49779999256134033,\n",
       "  0.5019000172615051,\n",
       "  0.5022000074386597,\n",
       "  0.51419997215271,\n",
       "  0.6195999979972839,\n",
       "  0.7771999835968018,\n",
       "  0.8328999876976013,\n",
       "  0.8521999716758728],\n",
       " 'val_loss': [0.693755567073822,\n",
       "  0.693294107913971,\n",
       "  0.6953368782997131,\n",
       "  0.6932446956634521,\n",
       "  0.6931442022323608,\n",
       "  0.6898294687271118,\n",
       "  0.6174739599227905,\n",
       "  0.45576852560043335,\n",
       "  0.4454246163368225,\n",
       "  0.38831934332847595],\n",
       " 'val_accuracy': [0.4970000088214874,\n",
       "  0.503000020980835,\n",
       "  0.4970000088214874,\n",
       "  0.4830000102519989,\n",
       "  0.4880000054836273,\n",
       "  0.5460000038146973,\n",
       "  0.7120000123977661,\n",
       "  0.796999990940094,\n",
       "  0.8309999704360962,\n",
       "  0.8360000252723694]}"
      ]
     },
     "execution_count": 42,
     "metadata": {},
     "output_type": "execute_result"
    }
   ],
   "source": [
    "history.history"
   ]
  },
  {
   "cell_type": "code",
   "execution_count": 43,
   "id": "9cf70ecd",
   "metadata": {},
   "outputs": [
    {
     "name": "stdout",
     "output_type": "stream",
     "text": [
      "dict_keys(['loss', 'accuracy', 'val_loss', 'val_accuracy'])\n"
     ]
    },
    {
     "data": {
      "image/png": "[encoded data removed]",
      "text/plain": [
       "<Figure size 432x288 with 1 Axes>"
      ]
     },
     "metadata": {
      "needs_background": "light"
     },
     "output_type": "display_data"
    }
   ],
   "source": [
    "import matplotlib.pyplot as plt\n",
    "%matplotlib inline\n",
    "print(history.history.keys())\n",
    "# summarize history for accuracy\n",
    "plt.plot(history.history['accuracy'])\n",
    "plt.plot(history.history['val_accuracy'])\n",
    "plt.title('model accuracy')\n",
    "plt.ylabel('accuracy')\n",
    "plt.xlabel('epoch')\n",
    "plt.legend(['train', 'test'], loc='upper left')\n",
    "plt.show()"
   ]
  },
  {
   "cell_type": "markdown",
   "id": "4c4863b7",
   "metadata": {},
   "source": [
    "#### Realizando predição do modelo"
   ]
  },
  {
   "cell_type": "code",
   "execution_count": 44,
   "id": "11ce96b2",
   "metadata": {},
   "outputs": [],
   "source": [
    "pred_results = model.predict([inputs_test, queries_test])"
   ]
  },
  {
   "cell_type": "code",
   "execution_count": 45,
   "id": "d986e61e",
   "metadata": {},
   "outputs": [
    {
     "data": {
      "text/plain": [
       "['Mary',\n",
       " 'got',\n",
       " 'the',\n",
       " 'milk',\n",
       " 'there',\n",
       " '.',\n",
       " 'John',\n",
       " 'moved',\n",
       " 'to',\n",
       " 'the',\n",
       " 'bedroom',\n",
       " '.']"
      ]
     },
     "execution_count": 45,
     "metadata": {},
     "output_type": "execute_result"
    }
   ],
   "source": [
    "test_data[0][0]"
   ]
  },
  {
   "cell_type": "markdown",
   "id": "f9c7889b",
   "metadata": {},
   "source": [
    "#### O vetor preditor, gera uma série de probabilidades para cada palavra do vocabulário"
   ]
  },
  {
   "cell_type": "code",
   "execution_count": 46,
   "id": "f842d74b",
   "metadata": {},
   "outputs": [
    {
     "data": {
      "text/plain": [
       "array([3.7727716e-08, 5.0404729e-08, 3.6008071e-08, 5.8910564e-02,\n",
       "       4.3668944e-08, 4.2718092e-08, 4.2689418e-08, 3.0791409e-08,\n",
       "       4.6931319e-08, 4.7346074e-08, 3.6182531e-08, 4.8926019e-08,\n",
       "       3.9911235e-08, 4.3162157e-08, 3.8849596e-08, 2.8822807e-08,\n",
       "       5.1974304e-08, 3.7694772e-08, 3.9772324e-08, 3.9657188e-08,\n",
       "       9.4108796e-01, 3.4087403e-08, 3.7311441e-08, 4.1478092e-08,\n",
       "       4.4416058e-08, 3.1490778e-08, 3.1853535e-08, 3.3277008e-08,\n",
       "       3.3216448e-08, 3.4663849e-08, 3.6620001e-08, 3.8004334e-08,\n",
       "       4.3839687e-08, 3.3894203e-08, 3.5128689e-08, 2.5174151e-08,\n",
       "       4.4670937e-08, 3.9619383e-08], dtype=float32)"
      ]
     },
     "execution_count": 46,
     "metadata": {},
     "output_type": "execute_result"
    }
   ],
   "source": [
    "pred_results[0]"
   ]
  },
  {
   "cell_type": "markdown",
   "id": "b01d6e29",
   "metadata": {},
   "source": [
    "#### descobrindo a palavra predita"
   ]
  },
  {
   "cell_type": "code",
   "execution_count": 47,
   "id": "dffea580",
   "metadata": {},
   "outputs": [],
   "source": [
    "val_max = np.argmax(pred_results[0])"
   ]
  },
  {
   "cell_type": "code",
   "execution_count": 48,
   "id": "fccc5fec",
   "metadata": {},
   "outputs": [
    {
     "name": "stdout",
     "output_type": "stream",
     "text": [
      "no\n"
     ]
    }
   ],
   "source": [
    "for key, val in tokenizer.word_index.items():\n",
    "    if val == val_max:\n",
    "        k = key\n",
    "print(k)"
   ]
  },
  {
   "cell_type": "markdown",
   "id": "5e040df2",
   "metadata": {},
   "source": [
    "#### Avaliando a probabilidade"
   ]
  },
  {
   "cell_type": "code",
   "execution_count": 49,
   "id": "e1b0ae69",
   "metadata": {},
   "outputs": [
    {
     "data": {
      "text/plain": [
       "0.94108796"
      ]
     },
     "execution_count": 49,
     "metadata": {},
     "output_type": "execute_result"
    }
   ],
   "source": [
    "pred_results[0][val_max]"
   ]
  },
  {
   "cell_type": "markdown",
   "id": "16a431c0",
   "metadata": {},
   "source": [
    "#### Testando o modelo com uma historia aleatória"
   ]
  },
  {
   "cell_type": "code",
   "execution_count": 50,
   "id": "d1c737b6",
   "metadata": {},
   "outputs": [],
   "source": [
    "my_story = \"John left the kitchen .  Sandra dropped the football in the garden .\""
   ]
  },
  {
   "cell_type": "code",
   "execution_count": 51,
   "id": "99fedfef",
   "metadata": {},
   "outputs": [
    {
     "data": {
      "text/plain": [
       "['John',\n",
       " 'left',\n",
       " 'the',\n",
       " 'kitchen',\n",
       " '.',\n",
       " 'Sandra',\n",
       " 'dropped',\n",
       " 'the',\n",
       " 'football',\n",
       " 'in',\n",
       " 'the',\n",
       " 'garden',\n",
       " '.']"
      ]
     },
     "execution_count": 51,
     "metadata": {},
     "output_type": "execute_result"
    }
   ],
   "source": [
    "my_story.split()"
   ]
  },
  {
   "cell_type": "code",
   "execution_count": 52,
   "id": "e586b668",
   "metadata": {},
   "outputs": [],
   "source": [
    "my_question = \"Is the football in the garden ?\""
   ]
  },
  {
   "cell_type": "markdown",
   "id": "989b4847",
   "metadata": {},
   "source": [
    "#### criando a base de dados da historia"
   ]
  },
  {
   "cell_type": "code",
   "execution_count": 53,
   "id": "a37c9eb2",
   "metadata": {},
   "outputs": [],
   "source": [
    "mydata = [(my_story.split(), my_question.split(), 'yes')]"
   ]
  },
  {
   "cell_type": "code",
   "execution_count": 54,
   "id": "647d00fe",
   "metadata": {},
   "outputs": [
    {
     "data": {
      "text/plain": [
       "[(['John',\n",
       "   'left',\n",
       "   'the',\n",
       "   'kitchen',\n",
       "   '.',\n",
       "   'Sandra',\n",
       "   'dropped',\n",
       "   'the',\n",
       "   'football',\n",
       "   'in',\n",
       "   'the',\n",
       "   'garden',\n",
       "   '.'],\n",
       "  ['Is', 'the', 'football', 'in', 'the', 'garden', '?'],\n",
       "  'yes')]"
      ]
     },
     "execution_count": 54,
     "metadata": {},
     "output_type": "execute_result"
    }
   ],
   "source": [
    "mydata"
   ]
  },
  {
   "cell_type": "markdown",
   "id": "7e9328f6",
   "metadata": {},
   "source": [
    "#### vetorizando textos"
   ]
  },
  {
   "cell_type": "code",
   "execution_count": 55,
   "id": "7232dad6",
   "metadata": {},
   "outputs": [],
   "source": [
    "my_story, my_ques, my_ans = vectorize_stories(mydata)"
   ]
  },
  {
   "cell_type": "markdown",
   "id": "45f64be2",
   "metadata": {},
   "source": [
    "#### Realizando predição"
   ]
  },
  {
   "cell_type": "code",
   "execution_count": 56,
   "id": "0bda9238",
   "metadata": {},
   "outputs": [],
   "source": [
    "pred_results = model.predict([my_story, my_ques])"
   ]
  },
  {
   "cell_type": "code",
   "execution_count": 57,
   "id": "f249e98e",
   "metadata": {},
   "outputs": [],
   "source": [
    "val_max = np.argmax(pred_results[0])"
   ]
  },
  {
   "cell_type": "code",
   "execution_count": 58,
   "id": "157fc228",
   "metadata": {},
   "outputs": [
    {
     "name": "stdout",
     "output_type": "stream",
     "text": [
      "yes\n"
     ]
    }
   ],
   "source": [
    "for key, val in tokenizer.word_index.items():\n",
    "    if val == val_max:\n",
    "        k = key\n",
    "print(k)"
   ]
  },
  {
   "cell_type": "code",
   "execution_count": 59,
   "id": "eb75022c",
   "metadata": {},
   "outputs": [
    {
     "data": {
      "text/plain": [
       "0.96772844"
      ]
     },
     "execution_count": 59,
     "metadata": {},
     "output_type": "execute_result"
    }
   ],
   "source": [
    "pred_results[0][val_max]"
   ]
  },
  {
   "cell_type": "code",
   "execution_count": null,
   "id": "f0ddfcc3",
   "metadata": {},
   "outputs": [],
   "source": []
  },
  {
   "cell_type": "code",
   "execution_count": null,
   "id": "f8283457",
   "metadata": {},
   "outputs": [],
   "source": []
  }
 ],
 "metadata": {
  "kernelspec": {
   "display_name": "Python 3 (ipykernel)",
   "language": "python",
   "name": "python3"
  },
  "language_info": {
   "codemirror_mode": {
    "name": "ipython",
    "version": 3
   },
   "file_extension": ".py",
   "mimetype": "text/x-python",
   "name": "python",
   "nbconvert_exporter": "python",
   "pygments_lexer": "ipython3",
   "version": "3.9.12"
  }
 },
 "nbformat": 4,
 "nbformat_minor": 5
}
